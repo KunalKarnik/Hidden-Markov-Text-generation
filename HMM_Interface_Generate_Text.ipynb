{
 "cells": [
  {
   "cell_type": "code",
   "execution_count": 1,
   "metadata": {},
   "outputs": [],
   "source": [
    "import pickle\n",
    "import random\n",
    "import numpy as np\n"
   ]
  },
  {
   "cell_type": "code",
   "execution_count": 2,
   "metadata": {},
   "outputs": [],
   "source": [
    "# -- Loading probability matrices from files --\n",
    "\n",
    "N = pickle.load( open( \"./HMM_DataStructures/N.p\", \"rb\" ) )\n",
    "M = pickle.load( open( \"./HMM_DataStructures/M.p\", \"rb\" ) )\n",
    "pi = pickle.load( open( \"./HMM_DataStructures/pi.p\", \"rb\" ) )\n",
    "A = pickle.load( open( \"./HMM_DataStructures/A.p\", \"rb\" ) )\n",
    "A_2 = pickle.load( open( \"./HMM_DataStructures/A_2.p\", \"rb\" ) )\n",
    "B = pickle.load( open( \"./HMM_DataStructures/B.p\", \"rb\" ) )\n",
    "O = ''"
   ]
  },
  {
   "cell_type": "markdown",
   "metadata": {},
   "source": [
    "### Text Generation using 1st Order Hidden Markov Model"
   ]
  },
  {
   "cell_type": "code",
   "execution_count": 3,
   "metadata": {},
   "outputs": [
    {
     "name": "stdout",
     "output_type": "stream",
     "text": [
      "krishna pressure hopes blues over bjp malaria bjp \n",
      "\n",
      "because grim after rights as sound racing gowda keerthi than dharwad casinos \n",
      "\n",
      "rafter notices up near cong estrada compares \n",
      "\n",
      "basant lockout teacher this nris construction \n",
      "\n",
      "creation beat scandal latest suspects agriculture hordes hit in jadoo zone \n",
      "\n",
      "history between zone bigger per i between this \n",
      "\n",
      "engg promoter asked anupam out held zen to help equipped over all \n",
      "\n",
      "that seeks double kamasutra alleged flays shah municipal house \n",
      "\n",
      "case fight bjp captain up all brabourne home to reception \n",
      "\n",
      "alternative can assembly gives quack superpower members because \n",
      "\n"
     ]
    }
   ],
   "source": [
    "# -- Set number of headlines to be generated - H\n",
    "H = 10\n",
    "\n",
    "for idx in range (0, H):\n",
    "\n",
    "    # -- T : number of observations in the sequence --\n",
    "    T = random.randint(6, 14)\n",
    "\n",
    "    # -- STEP 1: Choosing an initial state according to the initial state distribution - pi --\n",
    "    q1 = np.random.choice(N, 1, p=pi)\n",
    "    # -- STEP 2: set t=1\n",
    "    t = 1\n",
    "\n",
    "    # -- STEP 3: Choose observation according to the emission probability\n",
    "    p = np.array(list(B.loc[q1[0]]))\n",
    "    p /=  p.sum()\n",
    "    O_t = np.random.choice(B.columns.values, 1, p=p)\n",
    "    O = O_t[0]+' '\n",
    "    \n",
    "    # -- STEP 4: Transit to new state according to the state transition probability\n",
    "\n",
    "    t=t+1\n",
    "    qt = q1\n",
    "\n",
    "    while t < T:\n",
    "        qt = np.random.choice(N, 1, p=A.loc[qt[0]])\n",
    "        p = np.array(list(B.loc[qt[0]]))\n",
    "        p /=  p.sum()\n",
    "        O_t = np.random.choice(B.columns.values, 1, p=p)\n",
    "        O = O + O_t + ' '\n",
    "        t+=1\n",
    "    print(O[0]+\"\\n\")"
   ]
  },
  {
   "cell_type": "markdown",
   "metadata": {},
   "source": [
    "### Text Generation using 2nd Order Hidden Markov Model"
   ]
  },
  {
   "cell_type": "code",
   "execution_count": 4,
   "metadata": {},
   "outputs": [
    {
     "name": "stdout",
     "output_type": "stream",
     "text": [
      "along its filter suicide if things to kills mission notice to break \n",
      "\n",
      "sell noida farouq answer fissures at firm ayyappa before tilt lnmu \n",
      "\n",
      "scope inside diabetes besides metro \n",
      "\n",
      "forest eyeing passport the \n",
      "\n",
      "this dharwad love longer maoists after freed kuch board women \n",
      "\n",
      "vendors short sends quotient inside freedom as firm bcc borewells to \n",
      "\n",
      "to sangh no felicitating \n",
      "\n",
      "believing per hitch hinges like \n",
      "\n",
      "on long joins cold battery to blindness about \n",
      "\n",
      "because alive serial par withdraw hit against these \n",
      "\n"
     ]
    }
   ],
   "source": [
    "# -- Set number of headlines to be generated - H\n",
    "H = 10\n",
    "\n",
    "for idx in range (0, H):\n",
    "\n",
    "    # -- T : number of observations in the sequence --\n",
    "    T = random.randint(6, 14)\n",
    "\n",
    "    # -- STEP 1: Choosing an initial state according to the initial state distribution - pi \n",
    "    q1 = np.random.choice(N, 1, p=pi)\n",
    "    \n",
    "    # -- STEP 2: set t=1\n",
    "    t = 1\n",
    "\n",
    "    # -- STEP 3: Choose observation according to the emission probability\n",
    "    p = np.array(list(B.loc[q1[0]]))\n",
    "    p /=  p.sum()\n",
    "    O_t = np.random.choice(B.columns.values, 1, p=p)\n",
    "    O = O_t[0]+' '\n",
    "    \n",
    "    # -- STEP 4: Repeat above steps to get new state w.r.t the initial state and then get an observation for the new state\n",
    "    t=t+1\n",
    "    q2 = np.random.choice(N, 1, p=A.loc[q1[0]])\n",
    "    p = np.array(list(B.loc[qt[0]]))\n",
    "    p /=  p.sum()\n",
    "    O_t = np.random.choice(B.columns.values, 1, p=p)\n",
    "    O = O_t[0]+' '\n",
    "    \n",
    "    # -- STEP 4: Transit to new state according to the state transition probability\n",
    "\n",
    "    t=t+1\n",
    "    qt1 = q1\n",
    "    qt2 = q2\n",
    "    \n",
    "    while t < T:\n",
    "        qt = np.random.choice(N, 1, p=A_2.loc[qt1[0]+'-'+qt2[0]])\n",
    "        p = np.array(list(B.loc[qt[0]]))\n",
    "        p /=  p.sum()\n",
    "        O_t = np.random.choice(B.columns.values, 1, p=p)\n",
    "        O = O + O_t + ' '\n",
    "        t+=1\n",
    "        qt1 = qt2\n",
    "        qt2 = qt\n",
    "    print(O[0]+\"\\n\")"
   ]
  },
  {
   "cell_type": "code",
   "execution_count": null,
   "metadata": {},
   "outputs": [],
   "source": []
  }
 ],
 "metadata": {
  "kernelspec": {
   "display_name": "Python 3",
   "language": "python",
   "name": "python3"
  },
  "language_info": {
   "codemirror_mode": {
    "name": "ipython",
    "version": 3
   },
   "file_extension": ".py",
   "mimetype": "text/x-python",
   "name": "python",
   "nbconvert_exporter": "python",
   "pygments_lexer": "ipython3",
   "version": "3.7.1"
  }
 },
 "nbformat": 4,
 "nbformat_minor": 2
}
