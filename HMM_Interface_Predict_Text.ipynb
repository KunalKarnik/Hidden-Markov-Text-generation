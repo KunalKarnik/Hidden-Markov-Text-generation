{
 "cells": [
  {
   "cell_type": "code",
   "execution_count": 19,
   "metadata": {},
   "outputs": [],
   "source": [
    "import nltk\n",
    "import pickle\n",
    "import numpy as np"
   ]
  },
  {
   "cell_type": "code",
   "execution_count": 52,
   "metadata": {},
   "outputs": [],
   "source": [
    "# -- Loading probability matrices from files --\n",
    "\n",
    "N = pickle.load( open( \"./HMM_DataStructures/N.p\", \"rb\" ) )\n",
    "M = pickle.load( open( \"./HMM_DataStructures/M.p\", \"rb\" ) )\n",
    "pi = pickle.load( open( \"./HMM_DataStructures/pi.p\", \"rb\" ) )\n",
    "A = pickle.load( open( \"./HMM_DataStructures/A_2.p\", \"rb\" ) )\n",
    "B = pickle.load( open( \"./HMM_DataStructures/B.p\", \"rb\" ) )\n",
    "O = ''"
   ]
  },
  {
   "cell_type": "code",
   "execution_count": 95,
   "metadata": {},
   "outputs": [
    {
     "name": "stdout",
     "output_type": "stream",
     "text": [
      "['VB']\n",
      "['India', 'gives', 'up', 'UN', 'Secruity', 'Council', 'seat', 'to', 'hold']\n"
     ]
    }
   ],
   "source": [
    "O = 'India gives up UN Secruity Council seat to'\n",
    "n = 2 # Order of HMM\n",
    "O = O.split()\n",
    "n_tags = [i[1] for i in nltk.pos_tag(O[len(O)-n:])]\n",
    "\n",
    "qt = np.random.choice(N, 1, p=A.loc[n_tags[0]+'-'+n_tags[1]]) #Get new transition state\n",
    "print(qt)\n",
    "p = np.array(list(B.loc[qt[0]]))\n",
    "p /=  p.sum()\n",
    "O.append((np.random.choice(B.columns.values, 1, p=p))[0]) #Get emission\n",
    "print(O)"
   ]
  },
  {
   "cell_type": "code",
   "execution_count": null,
   "metadata": {},
   "outputs": [],
   "source": []
  },
  {
   "cell_type": "code",
   "execution_count": null,
   "metadata": {},
   "outputs": [],
   "source": []
  }
 ],
 "metadata": {
  "kernelspec": {
   "display_name": "Python 3",
   "language": "python",
   "name": "python3"
  },
  "language_info": {
   "codemirror_mode": {
    "name": "ipython",
    "version": 3
   },
   "file_extension": ".py",
   "mimetype": "text/x-python",
   "name": "python",
   "nbconvert_exporter": "python",
   "pygments_lexer": "ipython3",
   "version": "3.7.1"
  }
 },
 "nbformat": 4,
 "nbformat_minor": 2
}
